{
 "cells": [
  {
   "cell_type": "code",
   "execution_count": 1,
   "id": "f80fd007",
   "metadata": {},
   "outputs": [],
   "source": [
    "# health_model_template.py\n",
    "\n",
    "# ------------------------------\n",
    "# 1. Import Libraries\n",
    "# ------------------------------\n",
    "import pandas as pd\n",
    "import numpy as np\n",
    "from sklearn.model_selection import train_test_split\n",
    "from sklearn.preprocessing import StandardScaler, LabelEncoder\n",
    "from tensorflow.keras.models import Sequential\n",
    "from tensorflow.keras.layers import Dense, Conv1D, MaxPooling1D, Flatten, Dropout\n",
    "from tensorflow.keras.utils import to_categorical\n"
   ]
  },
  {
   "cell_type": "code",
   "execution_count": null,
   "id": "0a5ceeea",
   "metadata": {},
   "outputs": [],
   "source": [
    "# ------------------------------\n",
    "# 2. Load and Preprocess Data\n",
    "# ------------------------------\n",
    "def load_data(file_path):\n",
    "    df = pd.read_csv(file_path)\n",
    "    return df\n",
    "\n",
    "def preprocess_data(df, target_column):\n",
    "    # Encode categorical labels\n",
    "    le = LabelEncoder()\n",
    "    y = le.fit_transform(df[target_column])\n",
    "    \n",
    "    # Drop target and get features\n",
    "    X = df.drop(columns=[target_column])\n",
    "    \n",
    "    # Scale features\n",
    "    scaler = StandardScaler()\n",
    "    X_scaled = scaler.fit_transform(X)\n",
    "    \n",
    "    return X_scaled, y, le\n"
   ]
  },
  {
   "cell_type": "code",
   "execution_count": null,
   "id": "ec1bbbcf",
   "metadata": {},
   "outputs": [],
   "source": [
    "\n",
    "# ------------------------------\n",
    "# 3. Define MLP Model\n",
    "# ------------------------------\n",
    "def build_mlp(input_dim, output_dim):\n",
    "    model = Sequential()\n",
    "    model.add(Dense(64, activation='relu', input_shape=(input_dim,)))\n",
    "    model.add(Dropout(0.3))\n",
    "    model.add(Dense(32, activation='relu'))\n",
    "    model.add(Dense(output_dim, activation='softmax'))\n",
    "    \n",
    "    model.compile(optimizer='adam', loss='sparse_categorical_crossentropy', metrics=['accuracy'])\n",
    "    return model\n"
   ]
  },
  {
   "cell_type": "code",
   "execution_count": null,
   "id": "c9e0d926",
   "metadata": {},
   "outputs": [],
   "source": [
    "\n",
    "# ------------------------------\n",
    "# 4. Define CNN Model (1D)\n",
    "# ------------------------------\n",
    "def build_cnn(input_shape, output_dim):\n",
    "    model = Sequential()\n",
    "    model.add(Conv1D(32, kernel_size=3, activation='relu', input_shape=input_shape))\n",
    "    model.add(MaxPooling1D(pool_size=2))\n",
    "    model.add(Flatten())\n",
    "    model.add(Dense(64, activation='relu'))\n",
    "    model.add(Dense(output_dim, activation='softmax'))\n",
    "    \n",
    "    model.compile(optimizer='adam', loss='sparse_categorical_crossentropy', metrics=['accuracy'])\n",
    "    return model\n"
   ]
  },
  {
   "cell_type": "code",
   "execution_count": null,
   "id": "9c023dbd",
   "metadata": {},
   "outputs": [],
   "source": [
    "# ------------------------------\n",
    "# 5. Train & Evaluate Model\n",
    "# ------------------------------\n",
    "def run_model(X, y, model_type=\"MLP\"):\n",
    "    X_train, X_test, y_train, y_test = train_test_split(X, y, test_size=0.2, random_state=42)\n",
    "    \n",
    "    if model_type == \"MLP\":\n",
    "        model = build_mlp(input_dim=X.shape[1], output_dim=len(np.unique(y)))\n",
    "    elif model_type == \"CNN\":\n",
    "        # Reshape for CNN\n",
    "        X_train = X_train.reshape(X_train.shape[0], X_train.shape[1], 1)\n",
    "        X_test = X_test.reshape(X_test.shape[0], X_test.shape[1], 1)\n",
    "        model = build_cnn(input_shape=X_train.shape[1:], output_dim=len(np.unique(y)))\n",
    "    else:\n",
    "        raise ValueError(\"Model type must be 'MLP' or 'CNN'\")\n",
    "    \n",
    "    model.fit(X_train, y_train, epochs=20, batch_size=32, validation_split=0.2, verbose=1)\n",
    "    \n",
    "    # Evaluation\n",
    "    test_loss, test_acc = model.evaluate(X_test, y_test)\n",
    "    print(f\"Test Accuracy: {test_acc:.4f}\")\n",
    "    return model\n"
   ]
  },
  {
   "cell_type": "code",
   "execution_count": null,
   "id": "9841a1e7",
   "metadata": {},
   "outputs": [],
   "source": [
    "\n",
    "data_path = \"your_preprocessed_data.csv\"  \n",
    "target_col = \"recommended_treatment\"      \n",
    "\n",
    "df = load_data(data_path)\n",
    "X, y, label_encoder = preprocess_data(df, target_col)\n",
    "\n",
    "# Choose model type: \"MLP\" or \"CNN\"\n",
    "final_model = run_model(X, y, model_type=\"MLP\")\n"
   ]
  }
 ],
 "metadata": {
  "kernelspec": {
   "display_name": "base",
   "language": "python",
   "name": "python3"
  },
  "language_info": {
   "codemirror_mode": {
    "name": "ipython",
    "version": 3
   },
   "file_extension": ".py",
   "mimetype": "text/x-python",
   "name": "python",
   "nbconvert_exporter": "python",
   "pygments_lexer": "ipython3",
   "version": "3.12.7"
  }
 },
 "nbformat": 4,
 "nbformat_minor": 5
}
